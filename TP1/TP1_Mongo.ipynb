{
 "metadata": {
  "language_info": {
   "codemirror_mode": {
    "name": "ipython",
    "version": 3
   },
   "file_extension": ".py",
   "mimetype": "text/x-python",
   "name": "python",
   "nbconvert_exporter": "python",
   "pygments_lexer": "ipython3",
   "version": "3.9.1-final"
  },
  "orig_nbformat": 2,
  "kernelspec": {
   "name": "python3",
   "display_name": "Python 3",
   "language": "python"
  }
 },
 "nbformat": 4,
 "nbformat_minor": 2,
 "cells": [
  {
   "cell_type": "code",
   "execution_count": 162,
   "metadata": {},
   "outputs": [],
   "source": [
    "# Q : Après avoir installé MongoDB, lister les DB fournies par défaut (ds l'installation) ?\n",
    "\n",
    "import pymongo\n",
    "import json\n",
    "from pprint import pprint"
   ]
  },
  {
   "cell_type": "code",
   "execution_count": 163,
   "metadata": {},
   "outputs": [
    {
     "output_type": "stream",
     "name": "stdout",
     "text": [
      "Authentification success\n"
     ]
    }
   ],
   "source": [
    "#########################################################################\n",
    "#####      insertOne() avec MongoDB & Python (pymongo)              #####\n",
    "\n",
    "# Q : Créer 1è DB \"metflix\" qui contient 1collection \"movies\" dans laquelle vs inserez les documents suivants :\n",
    "#     Comparer le comportement du shell Mongo et Python\n",
    "\n",
    "try:\n",
    "    client = pymongo.MongoClient('mongodb://localhost:27017/')\n",
    "    db = client.metflix\n",
    "\n",
    "    movies = db.movies\n",
    "    print('Authentification success')\n",
    "except:\n",
    "    print('Authentification failed')\n"
   ]
  },
  {
   "cell_type": "code",
   "execution_count": 164,
   "metadata": {
    "tags": []
   },
   "outputs": [
    {
     "output_type": "stream",
     "name": "stdout",
     "text": [
      "Insert success\nInsert failed\nInsert failed -> Erreur car l'id doit être unique\nInsert success\n{'_id': 'tt0075148', 'title': 'Rocky', 'year': 1976}\n{'_id': ObjectId('60054e53d6e3cef9b0dce1fb'),\n 'imdb': 'tt0073195',\n 'title': 'Jaws',\n 'year': 1975}\n{'_id': ObjectId('60054e53d6e3cef9b0dce1fc'),\n 'imdb': 'tt0082694',\n 'title': 'Mad Max 2 : The road Warrior',\n 'year': 1981}\n{'_id': ObjectId('60054e53d6e3cef9b0dce1fd'),\n 'imdb': 'tt0082971',\n 'title': 'Test',\n 'year': 1981}\n{'_id': ObjectId('60054f5cd6e3cef9b0dce1ff'), 'title': 'Rocky', 'year': 1976}\n{'_id': ObjectId('60054f5cd6e3cef9b0dce200'), 'title': 'Rocky', 'year': 1976}\n"
     ]
    }
   ],
   "source": [
    "#   title = Rocky ; year = 1976\n",
    "#   title = Rocky ; year = 1976 ; _id = tt0075148\n",
    "#   title = Rocky ; year = 1976 ; _id = tt0075148\n",
    "#   title = Rocky ; year = 1976\n",
    "\n",
    "try :   \n",
    "    movies.insert_one({\"title\": \"Rocky\", \"year\": 1976})\n",
    "    print(\"Insert success\")\n",
    "except :\n",
    "    print(\"Insert failed\")\n",
    "\n",
    "try :   \n",
    "    movies.insert_one({\"title\": \"Rocky\", \"year\": 1976, \"_id\": \"tt0075148\"})\n",
    "    print(\"Insert success\")\n",
    "except :\n",
    "    print(\"Insert failed\")\n",
    "\n",
    "# Erreur car l'id doit être unique\n",
    "try :   \n",
    "    movies.insert_one({\"title\": \"Rocky\", \"year\": 1976, \"_id\": \"tt0075148\"})\n",
    "    print(\"Insert success\")\n",
    "except :\n",
    "    print(\"Insert failed -> Erreur car l'id doit être unique\")\n",
    "\n",
    "try :   \n",
    "    movies.insert_one({\"title\": \"Rocky\", \"year\": 1976})\n",
    "    print(\"Insert success\")\n",
    "except :\n",
    "    print(\"Insert failed\")    \n",
    "\n",
    "movies = movies.find()\n",
    "for movie in movies :\n",
    "    pprint(movie)"
   ]
  },
  {
   "cell_type": "code",
   "execution_count": 165,
   "metadata": {},
   "outputs": [
    {
     "output_type": "stream",
     "name": "stdout",
     "text": [
      "Insert success\n"
     ]
    }
   ],
   "source": [
    "#   et 1autre collection \"users\" :\n",
    "#   - qui contient un document qui porte votre nom et prénom,\n",
    "\n",
    "users = db.users\n",
    "\n",
    "try : \n",
    "    users.insert_one({\"firstname\": \"David\", \"lastname\": \"Da Silva Teixeira\"})\n",
    "    print(\"Insert success\")\n",
    "except : \n",
    "    print(\"Insert failed\")"
   ]
  },
  {
   "cell_type": "code",
   "execution_count": 166,
   "metadata": {},
   "outputs": [
    {
     "output_type": "stream",
     "name": "stdout",
     "text": [
      "Drop Collection movies success\nInsert many success\n"
     ]
    }
   ],
   "source": [
    "#########################################################################\n",
    "#####                                insertMany()                   #####\n",
    "\n",
    "# Q : Supp la dernière collection, la recréer en y insérant les documents suivants :\n",
    "\n",
    "#   title = Rocky, year = 1976, _id = tt0075148\n",
    "#   title = Jaws, year = 1975, imdb = tt0073195\n",
    "#   title = Mad Max 2 : The Road Warrior, year = 1981, imdb = tt0082694\n",
    "#   title = Raiders of the Lost Ark, year = 1981, imdb = tt0082971\n",
    "\n",
    "\n",
    "#   Indice : utiliser insertMany(), par ex : insertMany([{\"title\" : ...}, {\"title\" : ...}])\n",
    "\n",
    "\n",
    "try : \n",
    "    db.movies.drop()\n",
    "    movies = db.movies\n",
    "    print(\"Drop Collection movies success\")\n",
    "except :\n",
    "    print(\"Drop Collection movies failed\")\n",
    "\n",
    "\n",
    "list = [{\n",
    "        \"title\": \"Rocky\", \n",
    "        \"year\": 1976,\n",
    "        \"_id\": \"tt0075148\"\n",
    "    },\n",
    "    {\n",
    "        \"title\": \"Jaws\", \n",
    "        \"year\": 1975,\n",
    "        \"imdb\": \"tt0073195\"\n",
    "    },\n",
    "    {\n",
    "        \"title\": \"Mad Max 2 : The road Warrior\", \n",
    "        \"year\": 1981,\n",
    "        \"imdb\": \"tt0082694\"\n",
    "    },\n",
    "    {\n",
    "        \"title\": \"Test\", \n",
    "        \"year\": 1981,\n",
    "        \"imdb\": \"tt0082971\"\n",
    "    }\n",
    " ]\n",
    "\n",
    "try : \n",
    "    movies.insert_many(list)\n",
    "    print(\"Insert many success\")\n",
    "except :\n",
    "    print(\"Insert many failed\")"
   ]
  },
  {
   "cell_type": "code",
   "execution_count": 167,
   "metadata": {},
   "outputs": [
    {
     "output_type": "stream",
     "name": "stdout",
     "text": [
      "{'_id': 'tt0075148', 'title': 'Rocky', 'year': 1976}\n{'_id': ObjectId('60054f5cd6e3cef9b0dce203'),\n 'imdb': 'tt0082694',\n 'title': 'Mad Max 2 : The road Warrior',\n 'year': 1981}\n{'_id': ObjectId('60054f5cd6e3cef9b0dce204'),\n 'imdb': 'tt0082971',\n 'title': 'Test',\n 'year': 1981}\n{'_id': ObjectId('60054f5cd6e3cef9b0dce202'),\n 'imdb': 'tt0073195',\n 'title': 'Jaws',\n 'year': 1975}\n"
     ]
    }
   ],
   "source": [
    "#########################################################################\n",
    "#####                          find avec des paramètres             #####\n",
    "\n",
    "# Q : Afficher ts les documents de la collection movies, le tout 1è document, le(s) document(s) où on trouve les films produits en 1981, le document où on trouve le film qui porte le titre \"Jaws\" ?\n",
    "\n",
    "#   Indice : utiliser find().pretty(), findOne(), find({\"title\":\"Jaws\"}).pretty()\n",
    "\n",
    "# le tout 1è document\n",
    "pprint(movies.find_one())\n",
    "\n",
    "# les films produits en 1981\n",
    "for movie in movies.find({'year': 1981}):\n",
    "    pprint(movie)\n",
    "\n",
    "# le film qui porte le titre \"Jaws\"\n",
    "for movie in movies.find({\"title\": \"Jaws\"}):\n",
    "    pprint(movie)"
   ]
  },
  {
   "cell_type": "code",
   "execution_count": 168,
   "metadata": {},
   "outputs": [
    {
     "output_type": "stream",
     "name": "stdout",
     "text": [
      "Ouverture du fichiers artists.json\nOuverture du fichiers movies.json\nInsert many success\nInsert many success\n"
     ]
    }
   ],
   "source": [
    "#########################################################################\n",
    "#####               Import de fichiers .json ?                      #####\n",
    "\n",
    "# Q : Créer une DB movies_artists avec deux collections : une pour les films et l’autre pour les artistes (voir les fichiers artists.json et movies.json associés) ?\n",
    "# # Rq: Préciser, lors de l'injection des fichiers json, dans la commande \"mongoimport\" la possibilité de supprimer la collection si elle existe (pour qu'elle soit recréer de nouveau et y injecter de la data fraîche).\n",
    "\n",
    "db = client.movies_artists\n",
    "\n",
    "try :\n",
    "    with open('json/artists.json') as json_data:\n",
    "        data_artists = json.load(json_data)\n",
    "    print(\"Ouverture du fichiers artists.json\")\n",
    "except :\n",
    "    print(\"impossible d'ouvrir lesfichiers artists.json\")\n",
    "\n",
    "try :\n",
    "    with open('json/movies.json') as json_data:\n",
    "        data_movies = json.load(json_data)\n",
    "    print(\"Ouverture du fichiers movies.json\")\n",
    "except :\n",
    "    print(\"impossible d'ouvrir le fichiers movies.json\")\n",
    "\n",
    "if db.artist.find(): \n",
    "    db.artists.drop()\n",
    "\n",
    "if db.movies.find():\n",
    "    db.movies.drop()\n",
    "\n",
    "movies = db.movies\n",
    "artists = db.artists\n",
    "\n",
    "try:\n",
    "    db.artists.insert_many(data_artists)\n",
    "    print(\"Insert many success\")\n",
    "except:\n",
    "    print(\"Insert many error\")\n",
    "\n",
    "try:\n",
    "    db.movies.insert_many(data_movies)\n",
    "    print(\"Insert many success\")\n",
    "except:\n",
    "    print(\"Insert many error\")"
   ]
  },
  {
   "cell_type": "code",
   "execution_count": 169,
   "metadata": {},
   "outputs": [
    {
     "output_type": "stream",
     "name": "stdout",
     "text": [
      "Ouverture du fichiers movies_suite.json\nInsert many success\n"
     ]
    }
   ],
   "source": [
    "# Q : Augmenter la collection movies avec le fichier movies_suite.json ?\n",
    "# Indice :\n",
    "# - à l'aide de mongoimport\n",
    "# mongoimport -d movies_artists -c collection movies --mode insert --file \"C:/.../movies_suite.json\" --jsonArray\n",
    "# - Autres méthodes sont possibles : ...\n",
    "\n",
    "try :\n",
    "    with open('json/movies_suite.json') as json_data:\n",
    "        data_movies = json.load(json_data)\n",
    "    print(\"Ouverture du fichiers movies_suite.json\")\n",
    "except :\n",
    "    print(\"impossible d'ouvrir le fichiers movies_suite.json\")\n",
    "\n",
    "try:\n",
    "    db.movies.insert_many(data_movies)\n",
    "    print(\"Insert many success\")\n",
    "except:\n",
    "    print(\"Insert many error\")"
   ]
  },
  {
   "cell_type": "code",
   "execution_count": 170,
   "metadata": {},
   "outputs": [
    {
     "output_type": "stream",
     "name": "stdout",
     "text": [
      "Ouverture du fichiers artists_suite.json\nInsert many success\n"
     ]
    }
   ],
   "source": [
    "# Q : Augmenter la collection artists avec le fichier artists_suite.json après l'avoir transformer en csv (la conversion du json vers csv est obligatoire) ?\n",
    "# Indice :\n",
    "# - à l'aide de mongoimport\n",
    "# mongoimport -d movies_artists -c artists --type csv --headerline --file \"C:/.../artists_suite.csv\"\n",
    "try:\n",
    "    with open('json/artists_suite.json') as json_data:\n",
    "        data_artists = json.load(json_data)\n",
    "    print(\"Ouverture du fichiers artists_suite.json\")\n",
    "except :\n",
    "    print(\"impossible d'ouvrir lesfichiers artists_suite.json\")\n",
    "\n",
    "try:\n",
    "    db.artists.insert_many(data_artists)\n",
    "    print(\"Insert many success\")\n",
    "except:\n",
    "    print(\"Insert many error\")"
   ]
  },
  {
   "cell_type": "code",
   "execution_count": 171,
   "metadata": {},
   "outputs": [
    {
     "output_type": "stream",
     "name": "stdout",
     "text": [
      "{'_id': 'movie:10', 'title': 'Blade Runner'}\n{'_id': 'movie:11', 'title': 'PiÃ¨ge de cristal'}\n{'_id': 'movie:12', 'title': '58 minutes pour vivre'}\n{'_id': 'movie:13', 'title': 'Van Gogh'}\n{'_id': 'movie:14', 'title': 'Seven'}\n{'_id': 'movie:15', 'title': 'Twelve Monkeys'}\n{'_id': 'movie:16', 'title': 'Le last_name de la rose'}\n{'_id': 'movie:17', 'title': 'Pulp fiction'}\n{'_id': 'movie:18', 'title': 'Mary Ã\\xa0 tout prix'}\n{'_id': 'movie:19', 'title': 'Terminator'}\n{'_id': 'movie:20', 'title': 'Les dents de la mer'}\n{'_id': 'movie:21', 'title': 'Le silence des agneaux'}\n"
     ]
    }
   ],
   "source": [
    "#########################################################################\n",
    "#####               Pagination des résultats ?                      #####\n",
    "\n",
    "# Q : Afficher les 12 documents (films) à partir du dixième inclus en se limitant aux title et _id ?\n",
    "# Indice :\n",
    "#   Les options skip et limit permettent de « paginer » le résultat (comme en SQL)\n",
    "\n",
    "movies = db.movies.find({},{\"title\" : 1}).limit(12).skip(9)\n",
    "for movie in movies:\n",
    "    pprint(movie)"
   ]
  },
  {
   "cell_type": "code",
   "execution_count": 172,
   "metadata": {},
   "outputs": [
    {
     "output_type": "stream",
     "name": "stdout",
     "text": [
      "Ordre Croissant\n{'_id': 'movie:12', 'title': '58 minutes pour vivre'}\n{'_id': 'movie:2', 'title': 'Alien'}\n{'_id': 'movie:7', 'title': 'American Beauty'}\n{'_id': 'movie:53', 'title': 'Bad Lieutenant'}\n{'_id': 'movie:88', 'title': 'Batman begins'}\n{'_id': 'movie:10', 'title': 'Blade Runner'}\n{'_id': 'movie:72', 'title': 'Casino'}\n{'_id': 'movie:73', 'title': 'Casino Royale'}\n{'_id': 'movie:51', 'title': 'De bruit et de fureur'}\n{'_id': 'movie:78', 'title': 'Django unchained'}\n{'_id': 'movie:37', 'title': 'Eyes Wide Shut'}\n{'_id': 'movie:77', 'title': 'Fargo'}\n{'_id': 'movie:40', 'title': 'FenÃªtre sur cour'}\n{'_id': 'movie:9', 'title': 'Gladiator'}\n{'_id': 'movie:22', 'title': 'Godzilla'}\n{'_id': 'movie:69', 'title': 'Heat'}\n{'_id': 'movie:8', 'title': 'Impitoyable'}\n{'_id': 'movie:86', 'title': 'Inception'}\n{'_id': 'movie:79', 'title': 'Inglourious Basterds'}\n{'_id': 'movie:80', 'title': 'Inglourious Basterds'}\n{'_id': 'movie:85', 'title': 'Interstellar'}\n{'_id': 'movie:57', 'title': 'Jackie Brown'}\n{'_id': 'movie:42', 'title': \"Jeanne d'Arc\"}\n{'_id': 'movie:25', 'title': 'Kagemusha'}\n{'_id': 'movie:61', 'title': 'Kill Bill'}\n{'_id': 'movie:48', 'title': 'King of New York'}\n{'_id': 'movie:41', 'title': 'La mort aux trousses'}\n{'_id': 'movie:32', 'title': 'Le bon, la brute et le truand'}\n{'_id': 'movie:43', 'title': 'Le cinquiÃ¨me Ã©lÃ©ment'}\n{'_id': 'movie:82', 'title': 'Le dernier mÃ©tro'}\n{'_id': 'movie:27', 'title': 'Le gendarme et les extra-terrestres'}\n{'_id': 'movie:46', 'title': 'Le grand bleu'}\n{'_id': 'movie:16', 'title': 'Le last_name de la rose'}\n{'_id': 'movie:28', 'title': 'Le monde perdu'}\n{'_id': 'movie:54', 'title': 'Le parrain'}\n{'_id': 'movie:55', 'title': 'Le parrain II'}\n{'_id': 'movie:56', 'title': 'Le parrain III'}\n{'_id': 'movie:34', 'title': 'Le retour du Jedi'}\n{'_id': 'movie:21', 'title': 'Le silence des agneaux'}\n{'_id': 'movie:71', 'title': 'Les affranchis'}\n{'_id': 'movie:31', 'title': 'Les bronzÃ©s font du ski'}\n{'_id': 'movie:20', 'title': 'Les dents de la mer'}\n{'_id': 'movie:35', 'title': 'Les oiseaux'}\n{'_id': 'movie:26', 'title': 'Les pleins pouvoirs'}\n{'_id': 'movie:81', 'title': 'Les quatre cents coups'}\n{'_id': 'movie:60', 'title': 'Lost in Translation'}\n{'_id': 'movie:44', 'title': 'LÃ©on'}\n{'_id': 'movie:67', 'title': 'Marie Antoinette'}\n{'_id': 'movie:18', 'title': 'Mary Ã\\xa0 tout prix'}\n{'_id': 'movie:23', 'title': 'Matrix'}\n{'_id': 'movie:87', 'title': 'Memento'}\n{'_id': 'movie:63', 'title': 'Million Dollar Baby'}\n{'_id': 'movie:24', 'title': 'Mission: Impossible'}\n{'_id': 'movie:45', 'title': 'Nikita'}\n{'_id': 'movie:76', 'title': 'No country for old men'}\n{'_id': 'movie:92', 'title': 'Nous trois ou rien'}\n{'_id': 'movie:39', 'title': 'Pas de printemps pour Marnie'}\n{'_id': 'movie:11', 'title': 'PiÃ¨ge de cristal'}\n{'_id': 'movie:64', 'title': 'Pour quelques dollars de plus'}\n{'_id': 'movie:33', 'title': 'Psychose'}\n{'_id': 'movie:17', 'title': 'Pulp fiction'}\n{'_id': 'movie:29', 'title': 'Rain Man'}\n{'_id': 'movie:36', 'title': 'Reservoir dogs'}\n{'_id': 'movie:84', 'title': 'Rio Grande'}\n{'_id': 'movie:4', 'title': 'Sacrifice'}\n{'_id': 'movie:14', 'title': 'Seven'}\n{'_id': 'movie:38', 'title': 'Shining'}\n{'_id': 'movie:59', 'title': 'SixiÃ¨me sens'}\n{'_id': 'movie:74', 'title': 'Skyfall'}\n{'_id': 'movie:6', 'title': 'Sleepy Hollow'}\n{'_id': 'movie:68', 'title': 'Soleil vert'}\n{'_id': 'movie:47', 'title': 'Spider-Man'}\n{'_id': 'movie:62', 'title': 'Stalingrad'}\n{'_id': 'movie:70', 'title': 'Taxi driver'}\n{'_id': 'movie:19', 'title': 'Terminator'}\n{'_id': 'movie:89', 'title': 'The Dark Knight'}\n{'_id': 'movie:90', 'title': 'The Dark Knight Rises'}\n{'_id': 'movie:50', 'title': 'The Matrix Revolutions'}\n{'_id': 'movie:49', 'title': 'The Matrix reloaded'}\n{'_id': 'movie:3', 'title': 'Titanic'}\n{'_id': 'movie:30', 'title': 'Top Gun'}\n{'_id': 'movie:15', 'title': 'Twelve Monkeys'}\n{'_id': 'movie:91', 'title': 'Un prophÃ¨te'}\n{'_id': 'movie:58', 'title': 'Une journÃ©e en enfer'}\n{'_id': 'movie:52', 'title': 'Usual suspects'}\n{'_id': 'movie:13', 'title': 'Van Gogh'}\n{'_id': 'movie:1', 'title': 'Vertigo'}\n{'_id': 'movie:5', 'title': 'Volte/Face'}\nOrdre Décroissant\n{'_id': 'movie:5', 'title': 'Volte/Face'}\n{'_id': 'movie:1', 'title': 'Vertigo'}\n{'_id': 'movie:13', 'title': 'Van Gogh'}\n{'_id': 'movie:52', 'title': 'Usual suspects'}\n{'_id': 'movie:58', 'title': 'Une journÃ©e en enfer'}\n{'_id': 'movie:91', 'title': 'Un prophÃ¨te'}\n{'_id': 'movie:15', 'title': 'Twelve Monkeys'}\n{'_id': 'movie:30', 'title': 'Top Gun'}\n{'_id': 'movie:3', 'title': 'Titanic'}\n{'_id': 'movie:49', 'title': 'The Matrix reloaded'}\n{'_id': 'movie:50', 'title': 'The Matrix Revolutions'}\n{'_id': 'movie:90', 'title': 'The Dark Knight Rises'}\n{'_id': 'movie:89', 'title': 'The Dark Knight'}\n{'_id': 'movie:19', 'title': 'Terminator'}\n{'_id': 'movie:70', 'title': 'Taxi driver'}\n{'_id': 'movie:62', 'title': 'Stalingrad'}\n{'_id': 'movie:47', 'title': 'Spider-Man'}\n{'_id': 'movie:68', 'title': 'Soleil vert'}\n{'_id': 'movie:6', 'title': 'Sleepy Hollow'}\n{'_id': 'movie:74', 'title': 'Skyfall'}\n{'_id': 'movie:59', 'title': 'SixiÃ¨me sens'}\n{'_id': 'movie:38', 'title': 'Shining'}\n{'_id': 'movie:14', 'title': 'Seven'}\n{'_id': 'movie:4', 'title': 'Sacrifice'}\n{'_id': 'movie:84', 'title': 'Rio Grande'}\n{'_id': 'movie:36', 'title': 'Reservoir dogs'}\n{'_id': 'movie:29', 'title': 'Rain Man'}\n{'_id': 'movie:17', 'title': 'Pulp fiction'}\n{'_id': 'movie:33', 'title': 'Psychose'}\n{'_id': 'movie:64', 'title': 'Pour quelques dollars de plus'}\n{'_id': 'movie:11', 'title': 'PiÃ¨ge de cristal'}\n{'_id': 'movie:39', 'title': 'Pas de printemps pour Marnie'}\n{'_id': 'movie:92', 'title': 'Nous trois ou rien'}\n{'_id': 'movie:76', 'title': 'No country for old men'}\n{'_id': 'movie:45', 'title': 'Nikita'}\n{'_id': 'movie:24', 'title': 'Mission: Impossible'}\n{'_id': 'movie:63', 'title': 'Million Dollar Baby'}\n{'_id': 'movie:87', 'title': 'Memento'}\n{'_id': 'movie:23', 'title': 'Matrix'}\n{'_id': 'movie:18', 'title': 'Mary Ã\\xa0 tout prix'}\n{'_id': 'movie:67', 'title': 'Marie Antoinette'}\n{'_id': 'movie:44', 'title': 'LÃ©on'}\n{'_id': 'movie:60', 'title': 'Lost in Translation'}\n{'_id': 'movie:81', 'title': 'Les quatre cents coups'}\n{'_id': 'movie:26', 'title': 'Les pleins pouvoirs'}\n{'_id': 'movie:35', 'title': 'Les oiseaux'}\n{'_id': 'movie:20', 'title': 'Les dents de la mer'}\n{'_id': 'movie:31', 'title': 'Les bronzÃ©s font du ski'}\n{'_id': 'movie:71', 'title': 'Les affranchis'}\n{'_id': 'movie:21', 'title': 'Le silence des agneaux'}\n{'_id': 'movie:34', 'title': 'Le retour du Jedi'}\n{'_id': 'movie:56', 'title': 'Le parrain III'}\n{'_id': 'movie:55', 'title': 'Le parrain II'}\n{'_id': 'movie:54', 'title': 'Le parrain'}\n{'_id': 'movie:28', 'title': 'Le monde perdu'}\n{'_id': 'movie:16', 'title': 'Le last_name de la rose'}\n{'_id': 'movie:46', 'title': 'Le grand bleu'}\n{'_id': 'movie:27', 'title': 'Le gendarme et les extra-terrestres'}\n{'_id': 'movie:82', 'title': 'Le dernier mÃ©tro'}\n{'_id': 'movie:43', 'title': 'Le cinquiÃ¨me Ã©lÃ©ment'}\n{'_id': 'movie:32', 'title': 'Le bon, la brute et le truand'}\n{'_id': 'movie:41', 'title': 'La mort aux trousses'}\n{'_id': 'movie:48', 'title': 'King of New York'}\n{'_id': 'movie:61', 'title': 'Kill Bill'}\n{'_id': 'movie:25', 'title': 'Kagemusha'}\n{'_id': 'movie:42', 'title': \"Jeanne d'Arc\"}\n{'_id': 'movie:57', 'title': 'Jackie Brown'}\n{'_id': 'movie:85', 'title': 'Interstellar'}\n{'_id': 'movie:79', 'title': 'Inglourious Basterds'}\n{'_id': 'movie:80', 'title': 'Inglourious Basterds'}\n{'_id': 'movie:86', 'title': 'Inception'}\n{'_id': 'movie:8', 'title': 'Impitoyable'}\n{'_id': 'movie:69', 'title': 'Heat'}\n{'_id': 'movie:22', 'title': 'Godzilla'}\n{'_id': 'movie:9', 'title': 'Gladiator'}\n{'_id': 'movie:40', 'title': 'FenÃªtre sur cour'}\n{'_id': 'movie:77', 'title': 'Fargo'}\n{'_id': 'movie:37', 'title': 'Eyes Wide Shut'}\n{'_id': 'movie:78', 'title': 'Django unchained'}\n{'_id': 'movie:51', 'title': 'De bruit et de fureur'}\n{'_id': 'movie:73', 'title': 'Casino Royale'}\n{'_id': 'movie:72', 'title': 'Casino'}\n{'_id': 'movie:10', 'title': 'Blade Runner'}\n{'_id': 'movie:88', 'title': 'Batman begins'}\n{'_id': 'movie:53', 'title': 'Bad Lieutenant'}\n{'_id': 'movie:7', 'title': 'American Beauty'}\n{'_id': 'movie:2', 'title': 'Alien'}\n{'_id': 'movie:12', 'title': '58 minutes pour vivre'}\n"
     ]
    }
   ],
   "source": [
    "#########################################################################\n",
    "#####                  Trier les resultats ?                        #####\n",
    "\n",
    "# Q : Trier les documents (de la dernière qry) sur le titre du film ds un ordre croissant (ensuite décroissant) ?\n",
    "\n",
    "# Indice : utiliser sort()\n",
    "\n",
    "\n",
    "print(\"Ordre Croissant\")\n",
    "for movie in db.movies.find({},{\"title\" : 1}).sort(\"title\", 1):\n",
    "    pprint(movie)\n",
    "\n",
    "print(\"Ordre Décroissant\")\n",
    "for movie in db.movies.find({},{\"title\" : 1}).sort(\"title\", -1):\n",
    "    pprint(movie)"
   ]
  },
  {
   "cell_type": "code",
   "execution_count": 173,
   "metadata": {},
   "outputs": [
    {
     "output_type": "stream",
     "name": "stdout",
     "text": [
      "{'_id': 'movie:2',\n 'genre': 'Science-fiction',\n 'summary': \"PrÃ¨s d'un vaisseau spatial Ã©chouÃ© sur une lointaine planÃ¨te, \"\n            'des Terriens en mission dÃ©couvrent de bien Ã©tranges \"oeufs\". '\n            \"Ils en ramÃ¨nent un Ã\\xa0 bord, ignorant qu'ils viennent \"\n            \"d'introduire parmi eux un huitiÃ¨me passager particuliÃ¨rement \"\n            'fÃ©roce et meurtrier. ',\n 'title': 'Alien'}\n"
     ]
    }
   ],
   "source": [
    "#########################################################################\n",
    "#####             Critères de recherche simples ?         #####\n",
    "\n",
    "# Q : Afficher les infos du film dont l'id est 2 ? Se limiter aux infos relatives au titre, au genre et au summary ?\n",
    "# Indice : utiliser findOne({\"_id\": \"movie:2\"}, {\"title\" : 1,...})\n",
    "# Projection (ramener des sous parties des documents)\n",
    "\n",
    "pprint(db.movies.find_one({\"_id\": \"movie:2\"},{\"title\" : 1, \"genre\": 1, \"summary\": 1 }))"
   ]
  },
  {
   "cell_type": "code",
   "execution_count": 174,
   "metadata": {},
   "outputs": [
    {
     "output_type": "stream",
     "name": "stdout",
     "text": [
      "{'_id': 'movie:31',\n 'actors': [{'_id': 'artist:75', 'role': 'Nathalie Morin'},\n            {'_id': 'artist:76', 'role': 'Christiane'},\n            {'_id': 'artist:84', 'role': 'Jean-Claude Dus'},\n            {'_id': 'artist:85', 'role': 'JÃ©rÃ´me'},\n            {'_id': 'artist:86', 'role': 'Popeye'}],\n 'title': 'Les bronzÃ©s font du ski',\n 'year': 1979}\n{'_id': 'movie:2',\n 'actors': [{'_id': 'artist:5', 'role': 'Ripley'}],\n 'title': 'Alien',\n 'year': 1979}\n"
     ]
    }
   ],
   "source": [
    "# Q : Combien de films ont été produit en en 1979 et les afficher en se limitant aux infos relatives au titre, à l'année et à la liste des acteurs suivant un ordre alphabétique décroissant sur le titre.\n",
    "# Indice : 2films : Alien et les bronzés font du ski.\n",
    "\n",
    "movies = db.movies.find({\"year\": 1979},{\"title\" : 1, \"year\": 1, \"actors\": 1 }).sort(\"title\", -1)\n",
    "for movie in movies :\n",
    "    pprint(movie)"
   ]
  },
  {
   "cell_type": "code",
   "execution_count": 175,
   "metadata": {},
   "outputs": [
    {
     "output_type": "stream",
     "name": "stdout",
     "text": [
      "{'actors': [{'_id': 'artist:5', 'role': 'Ripley'}],\n 'country': 'USA',\n 'director': {'_id': 'artist:4'},\n 'genre': 'Science-fiction',\n 'title': 'Alien',\n 'year': 1979}\n"
     ]
    }
   ],
   "source": [
    "# Q : Afficher les infos sur le film dont le genre est \"Science-fiction\" et produit en 1979 sans préciser l'_id et le summary ?\n",
    "# Indice : Alien ! Si on choisit d’indiquer des attributs à exclure on leur donne la valeur 0 ou null !\n",
    "\n",
    "movies = db.movies.find({\"year\": 1979, \"genre\" : \"Science-fiction\"},{\"_id\" : 0, \"summary\": 0})\n",
    "for movie in movies:\n",
    "    pprint(movie)"
   ]
  },
  {
   "cell_type": "code",
   "execution_count": 176,
   "metadata": {},
   "outputs": [
    {
     "output_type": "stream",
     "name": "stdout",
     "text": [
      "{'_id': 'movie:2',\n 'actors': [{'_id': 'artist:5', 'role': 'Ripley'}],\n 'country': 'USA',\n 'director': {'_id': 'artist:4'},\n 'genre': 'Science-fiction',\n 'summary': \"PrÃ¨s d'un vaisseau spatial Ã©chouÃ© sur une lointaine planÃ¨te, \"\n            'des Terriens en mission dÃ©couvrent de bien Ã©tranges \"oeufs\". '\n            \"Ils en ramÃ¨nent un Ã\\xa0 bord, ignorant qu'ils viennent \"\n            \"d'introduire parmi eux un huitiÃ¨me passager particuliÃ¨rement \"\n            'fÃ©roce et meurtrier. ',\n 'title': 'Alien',\n 'year': 1979}\n{'_id': 'movie:2',\n 'actors': [{'_id': 'artist:5', 'role': 'Ripley'}],\n 'country': 'USA',\n 'director': {'_id': 'artist:4'},\n 'genre': 'Science-fiction',\n 'summary': \"PrÃ¨s d'un vaisseau spatial Ã©chouÃ© sur une lointaine planÃ¨te, \"\n            'des Terriens en mission dÃ©couvrent de bien Ã©tranges \"oeufs\". '\n            \"Ils en ramÃ¨nent un Ã\\xa0 bord, ignorant qu'ils viennent \"\n            \"d'introduire parmi eux un huitiÃ¨me passager particuliÃ¨rement \"\n            'fÃ©roce et meurtrier. ',\n 'title': 'Alien',\n 'year': 1979}\n"
     ]
    }
   ],
   "source": [
    "# Q : Corriger ces Qry ?\n",
    "\n",
    "# db.movies.find({\"titre\": \"Alien\"})\n",
    "# Indice : Ns avons mal saisit la Qry : \"titre\" au lieu de \"title\" => 0 doc.\n",
    "# Indice : MongoDB ne proteste pas quand on fait une faute de frappe sur des noms d’attributs (contrairement à SQL).\n",
    "\n",
    "# Il faut respèter le bon nom d'attributs\n",
    "movies = db.movies.find({\"title\": \"Alien\"})\n",
    "for movie in movies:\n",
    "    pprint(movie)\n",
    "\n",
    "# db.movies.find({\"title\": \"alien\"})\n",
    "# Indice : Ns avons mal saisit \"alien\" au lieu \"Alien\" => 0 doc (ce qui est normal). En d'autres termes, ns ne soulevons pas une erreur de syntaxe (contrairement à la Qry précédente).\n",
    "# Indice : On peut introduire une expression régulière pour que la recherche soit case insensitive (voir plus bas)\n",
    "\n",
    "# Il faut respèter la case\n",
    "movies = db.movies.find({\"title\": \"Alien\"})\n",
    "for movie in movies:\n",
    "    pprint(movie)"
   ]
  },
  {
   "cell_type": "code",
   "execution_count": 177,
   "metadata": {},
   "outputs": [
    {
     "output_type": "stream",
     "name": "stdout",
     "text": [
      "{'_id': 'movie:2',\n 'actors': [{'_id': 'artist:5', 'role': 'Ripley'}],\n 'director': {'_id': 'artist:4'},\n 'title': 'Alien',\n 'year': 1979}\n{'_id': 'movie:10',\n 'actors': [{'_id': 'artist:24', 'role': 'Deckard'},\n            {'_id': 'artist:25', 'role': 'Batty'}],\n 'director': {'_id': 'artist:4'},\n 'title': 'Blade Runner',\n 'year': 1982}\n{'_id': 'movie:9',\n 'actors': [{'_id': 'artist:23', 'role': 'Maximus'},\n            {'_id': 'artist:147', 'role': 'Commode'},\n            {'_id': 'artist:148', 'role': 'Lucilla'},\n            {'_id': 'artist:149', 'role': 'Marc Aurele'}],\n 'director': {'_id': 'artist:4'},\n 'title': 'Gladiator',\n 'year': 2000}\n"
     ]
    }
   ],
   "source": [
    "#########################################################################\n",
    "#####             Critères de recherche complexes ?                 #####\n",
    "\n",
    "# Recherche dans un objet ou un tableau imbriqué ?\n",
    "\n",
    "# Q : Combien de films produits par le director dont l'id est 4 et les afficher de plus récent au moins récent (sans le résumé ni le country ni le genre) ?\n",
    "# Indice : Gladiator, Blade Runer et Alien\n",
    "\n",
    "movies = db.movies.find({\"director\":{\"_id\" : \"artist:4\"}},{\"genre\" : 0, \"summary\": 0, \"country\": 0}).sort(\"year\", 1)\n",
    "for movie in movies:\n",
    "    pprint(movie)"
   ]
  },
  {
   "cell_type": "code",
   "execution_count": 178,
   "metadata": {},
   "outputs": [
    {
     "output_type": "stream",
     "name": "stdout",
     "text": [
      "{'_id': 'movie:9',\n 'actors': [{'_id': 'artist:23', 'role': 'Maximus'},\n            {'_id': 'artist:147', 'role': 'Commode'},\n            {'_id': 'artist:148', 'role': 'Lucilla'},\n            {'_id': 'artist:149', 'role': 'Marc Aurele'}],\n 'director': {'_id': 'artist:4'},\n 'title': 'Gladiator',\n 'year': 2000}\n"
     ]
    }
   ],
   "source": [
    "# Q : Combien de films produits par le director qui porte l'id 4 et dont l'un des acteurs a joué le rôle de Maximus et les afficher sans le résumé ni le country ni le genre ?\n",
    "# Indice : Gladiator\n",
    "\n",
    "movies = db.movies.find({\"director\":{\"_id\" : \"artist:4\"}, \"actors.role\": \"Maximus\"}, {\"genre\" : 0, \"summary\": 0, \"country\": 0}).sort(\"year\", 1)\n",
    "for movie in movies:\n",
    "    pprint(movie)"
   ]
  },
  {
   "cell_type": "code",
   "execution_count": 179,
   "metadata": {},
   "outputs": [
    {
     "output_type": "stream",
     "name": "stdout",
     "text": [
      "{'_id': 'movie:9',\n 'actors': [{'_id': 'artist:23', 'role': 'Maximus'},\n            {'_id': 'artist:147', 'role': 'Commode'},\n            {'_id': 'artist:148', 'role': 'Lucilla'},\n            {'_id': 'artist:149', 'role': 'Marc Aurele'}],\n 'director': {'_id': 'artist:4'},\n 'title': 'Gladiator',\n 'year': 2000}\n"
     ]
    }
   ],
   "source": [
    "# Q : Ecrire la dernière Qry en déclarant des variables ?\n",
    "query = {\"director\":{\"_id\" : \"artist:4\"}, \"actors.role\": \"Maximus\"}\n",
    "movies = db.movies.find(query, {\"genre\" : 0, \"summary\": 0, \"country\": 0}).sort(\"year\", 1)\n",
    "for movie in movies:\n",
    "    pprint(movie)"
   ]
  },
  {
   "cell_type": "code",
   "execution_count": 180,
   "metadata": {},
   "outputs": [
    {
     "output_type": "stream",
     "name": "stdout",
     "text": [
      "{'_id': 'movie:9', 'title': 'Gladiator', 'year': 2000}\n{'_id': 'movie:87', 'title': 'Memento', 'year': 2000}\n{'_id': 'movie:62', 'title': 'Stalingrad', 'year': 2001}\n{'_id': 'movie:47', 'title': 'Spider-Man', 'year': 2002}\n{'_id': 'movie:49', 'title': 'The Matrix reloaded', 'year': 2003}\n{'_id': 'movie:50', 'title': 'The Matrix Revolutions', 'year': 2003}\n{'_id': 'movie:60', 'title': 'Lost in Translation', 'year': 2003}\n{'_id': 'movie:61', 'title': 'Kill Bill', 'year': 2003}\n"
     ]
    }
   ],
   "source": [
    "#########################################################################\n",
    "#####           Critère de recherche par intervalles                #####\n",
    "\n",
    "# Q : Ts les films produits après 2000 compris et avant 2005 exlus (dans un ordre chronologique) en se limitant au titre du film et son année de production ?\n",
    "\n",
    "movies = db.movies.find({\"year\":{\"$gte\":2000,\"$lt\":2005}},{\"title\" : 1, \"year\": 1}).sort(\"year\", 1)\n",
    "for movie in movies:\n",
    "    pprint(movie)"
   ]
  },
  {
   "cell_type": "code",
   "execution_count": 183,
   "metadata": {},
   "outputs": [
    {
     "output_type": "stream",
     "name": "stdout",
     "text": [
      "{'_id': 'movie:3',\n 'actors': [{'_id': 'artist:109', 'role': 'Rose DeWitt Bukater'},\n            {'_id': 'artist:110', 'role': 'Jack Dawson'}],\n 'country': 'USA',\n 'director': {'_id': 'artist:6'},\n 'genre': 'drama',\n 'summary': 'Conduite par Brock Lovett, une expÃ©dition amÃ©ricaine fouillant '\n            \"l'Ã©pave du Titanic remonte Ã\\xa0 la surface le croquis d'une \"\n            'femme nue. AlertÃ©e par les mÃ©dias la dame en question, Rose '\n            \"DeWitt Bukater, aujourd'hui centenaire, rejoint les lieux du \"\n            \"naufrage, d'oÃ¹ elle entreprend de conter le rÃ©cit de son \"\n            'fascinant, Ã©trange et tragique voyage... ',\n 'title': 'Titanic',\n 'year': 1997}\n{'_id': 'movie:5',\n 'actors': [{'_id': 'artist:11', 'role': 'Sean Archer/Castor Troy'},\n            {'_id': 'artist:12', 'role': 'Castor Troy/Sean Archer'}],\n 'country': 'USA',\n 'director': {'_id': 'artist:10'},\n 'genre': 'Action',\n 'summary': \"Directeur d'une unitÃ© anti-terroriste, Sean Archer recherche \"\n            'Castor Troy, un criminel responsable de la mort de son fils six '\n            \"ans plus tÃ´t. Il parvient Ã\\xa0 l'arrÃªter mais apprend que Troy \"\n            'a cachÃ© une bombe au Palais des CongrÃ¨s de Los Angeles. Seul le '\n            \"frÃ¨re de Troy peut la dÃ©samorcer et, pour l'approcher, Archer \"\n            'se fait greffer le visage de Troy. ',\n 'title': 'Volte/Face',\n 'year': 1997}\n{'_id': 'movie:9',\n 'actors': [{'_id': 'artist:23', 'role': 'Maximus'},\n            {'_id': 'artist:147', 'role': 'Commode'},\n            {'_id': 'artist:148', 'role': 'Lucilla'},\n            {'_id': 'artist:149', 'role': 'Marc Aurele'}],\n 'country': 'USA',\n 'director': {'_id': 'artist:4'},\n 'genre': 'drama',\n 'summary': 'Le gÃ©nÃ©ral romain Maximus est le plus '\n            \"fidÃ¨le                    soutien de l'empereur Marc AurÃ¨le, \"\n            \"qu'il a                    conduit de victoire en victoire avec \"\n            'une                    bravoure et un dÃ©vouement '\n            'exemplaires.                    Jaloux du prestige de Maximus, et '\n            \"plus                    encore de l'amour que lui voue \"\n            \"l'empereur,                    le fils de Marc-AurÃ¨le, Commode, \"\n            \"s'arroge                    brutalement le pouvoir, puis \"\n            \"ordonne                    l'arrestation du gÃ©nÃ©ral et son \"\n            'exÃ©cution.                    Maximus Ã©chappe Ã\\xa0 ses '\n            'assassins mais ne peut                    empÃªcher le massacre '\n            'de sa famille. CapturÃ©                    par un marchand '\n            \"d'esclaves, il devient                    gladiateur et prÃ©pare \"\n            'sa vengeance.',\n 'title': 'Gladiator',\n 'year': 2000}\n{'_id': 'movie:26',\n 'actors': [{'_id': 'artist:20', 'role': 'Luther Whitney'},\n            {'_id': 'artist:21', 'role': 'Le prÃ©sident Richmond'},\n            {'_id': 'artist:69', 'role': 'Seth Frank'}],\n 'country': 'USA',\n 'director': {'_id': 'artist:20'},\n 'genre': 'crime',\n 'summary': \"Luther Whitney est l'as des cambrioleurs. OccupÃ© Ã\\xa0 vider le \"\n            \"coffre de l'influent Walter Sullivan, il est tÃ©moin d'un meurtre \"\n            'sadique impliquant le PrÃ©sident des Etats-Unis et les services '\n            \"secrets. SoupÃ§onnÃ© par la police d'en Ãªtre l'auteur, il se \"\n            'retrouve Ã©galement traquÃ© par les tueurs, qui ont compris '\n            \"qu'ils ont Ã©tÃ© observÃ©s.\",\n 'title': 'Les pleins pouvoirs',\n 'year': 1997}\n{'_id': 'movie:28',\n 'actors': [{'_id': 'artist:57', 'role': 'Dr. Ian Malcolm'}],\n 'country': 'USA',\n 'director': {'_id': 'artist:45'},\n 'genre': 'Horreur',\n 'summary': None,\n 'title': 'Le monde perdu',\n 'year': 1997}\n{'_id': 'movie:43',\n 'actors': [{'_id': 'artist:27', 'role': 'Major Korben Dalla'},\n            {'_id': 'artist:112', 'role': 'Leeloo'},\n            {'_id': 'artist:116', 'role': 'Jean-Baptiste Emmanuel Zorg'},\n            {'_id': 'artist:117', 'role': 'Vito Cornelius'}],\n 'country': 'FR',\n 'director': {'_id': 'artist:111'},\n 'genre': 'Science-fiction',\n 'summary': 'Au XXIIIÃ¨me siÃ¨cle, dans un univers Ã©trange et colorÃ©, oÃ¹ '\n            'tout espoir de survie est impossible sans la dÃ©couverte du '\n            'CinquiÃ¨me ElÃ©ment, un hÃ©ros peu ordinaire affronte le mal pour '\n            \"sauver l'humanitÃ©. \",\n 'title': 'Le cinquiÃ¨me Ã©lÃ©ment',\n 'year': 1997}\n{'_id': 'movie:57',\n 'actors': [{'_id': 'artist:167', 'role': 'Luis Gara'},\n            {'_id': 'artist:168', 'role': 'Jackie Brown'},\n            {'_id': 'artist:169', 'role': 'Melanie'},\n            {'_id': 'artist:170', 'role': 'Ray Nicolette'},\n            {'_id': 'artist:212', 'role': 'Ordell Robbie'}],\n 'country': 'USA',\n 'director': {'_id': 'artist:37'},\n 'genre': 'crime',\n 'summary': \"Jackie Brown, hÃ´tesse de l'air, arrondit ses fins de mois en \"\n            \"convoyant de l'argent liquide pour le compte d'un trafiquant \"\n            \"d'armes, Ordell Robbie. Un jour, un agent federal et un policier \"\n            \"de Los Angeles la cueillent Ã\\xa0 l'aÃ©roport. Ils comptent sur \"\n            'elle pour faire tomber le trafiquant. Jackie Ã©chafaude alors un '\n            \"plan audacieux pour doubler tout le monde lors d'un prochain \"\n            'transfert qui porte sur la modeste somme de cinq cent mille '\n            \"dollars. Mais il lui faudra compter avec les complices d'Ordell, \"\n            'qui ont des mÃ©thodes plutÃ´t expÃ©ditives.',\n 'title': 'Jackie Brown',\n 'year': 1997}\n"
     ]
    }
   ],
   "source": [
    "#########################################################################\n",
    "#####               Opérateurs booléens                             #####\n",
    "\n",
    "# Q : Lister les films parus en 1997 ou avec l'acteur id = 147 ?\n",
    "# // R :\n",
    "# db.movies.find({$or : [{\"year\": 1997}, {\"actors._id\": \"artist:147\"}] })\n",
    "\n",
    "movies = db.movies.find({\"$or\" : [{\"year\": 1997}, {\"actors._id\": \"artist:147\"}] })\n",
    "\n",
    "for movie in movies:\n",
    "    pprint(movie)"
   ]
  },
  {
   "cell_type": "code",
   "execution_count": 184,
   "metadata": {},
   "outputs": [
    {
     "output_type": "stream",
     "name": "stdout",
     "text": [
      "{'_id': 'movie:56',\n 'actors': [{'_id': 'artist:1', 'role': 'Mary Corleone'},\n            {'_id': 'artist:176', 'role': 'Michael Corleone'},\n            {'_id': 'artist:183', 'role': 'Kay Adams'},\n            {'_id': 'artist:186', 'role': 'Vincent Mancini'}],\n 'title': 'Le parrain III'}\n{'_id': 'movie:36',\n 'actors': [{'_id': 'artist:37', 'role': 'Mr. Brown'},\n            {'_id': 'artist:98', 'role': 'Mr. White/Larry'},\n            {'_id': 'artist:99', 'role': 'Freddy Newendyke/Mr. Orange'},\n            {'_id': 'artist:100', 'role': 'Nice Guy Eddie'},\n            {'_id': 'artist:215', 'role': 'Mr Blonde'},\n            {'_id': 'artist:217', 'role': 'Mr Pink'},\n            {'_id': 'artist:218', 'role': 'Mr Blue'}],\n 'title': 'Reservoir dogs'}\n{'_id': 'movie:17',\n 'actors': [{'_id': 'artist:11', 'role': 'Vincent Vega'},\n            {'_id': 'artist:27', 'role': 'Butch Coolidge'},\n            {'_id': 'artist:37', 'role': 'Jimmy Dimmick'},\n            {'_id': 'artist:38', 'role': 'Jules Winnfield'},\n            {'_id': 'artist:39', 'role': 'Jody'},\n            {'_id': 'artist:40', 'role': 'Mia Wallace'},\n            {'_id': 'artist:97', 'role': 'Capt. Koons'},\n            {'_id': 'artist:98', 'role': 'Winston \"The Wolf\" Wolfe'},\n            {'_id': 'artist:99', 'role': 'Pumpkin (Ringo)'}],\n 'title': 'Pulp fiction'}\n{'_id': 'movie:53',\n 'actors': [{'_id': 'artist:98', 'role': 'Le lieutenant'}],\n 'title': 'Bad Lieutenant'}\n"
     ]
    }
   ],
   "source": [
    "#########################################################################\n",
    "#####       Opérateurs ensemblistes : in, not in, any, all, exists  #####\n",
    "\n",
    "# Q : Combien de films dans lesquels ont joué au moins un des artistes suivants : 34, 98 et 1 et afficher leur titre et la liste des actors ; sens du tri : chronologique et alphabétique croissant sur les noms des artistes ?\n",
    "# Indice : Utiliser $in ; 3 films : Le parrain III, Bad Lieutenant, Reservoir dogs, Pulp fiction.\n",
    "\n",
    "movies = db.movies.find({\"actors._id\":{\"$in\":[\"artist:34\",\"artist:98\",\"artist:1\"]}},{\"title\" : 1, \"actors\": 1}).sort(\"year\", 1)\n",
    "\n",
    "for movie in movies:\n",
    "    pprint(movie)"
   ]
  },
  {
   "cell_type": "code",
   "execution_count": 186,
   "metadata": {},
   "outputs": [
    {
     "output_type": "stream",
     "name": "stdout",
     "text": [
      "{'_id': 'movie:9',\n 'actors': [{'_id': 'artist:23', 'role': 'Maximus'},\n            {'_id': 'artist:147', 'role': 'Commode'},\n            {'_id': 'artist:148', 'role': 'Lucilla'},\n            {'_id': 'artist:149', 'role': 'Marc Aurele'}],\n 'title': 'Gladiator'}\n"
     ]
    }
   ],
   "source": [
    "# Q : Chercher les films dans lesquels ont joué ensemble les actors 23 et 147 ?\n",
    "# Indice : Utiliser $all ; Gladiator\n",
    "\n",
    "movies = db.movies.find({\"actors._id\":{\"$all\":[\"artist:23\",\"artist:147\"]}},{\"title\" : 1, \"actors\": 1}).sort(\"title\",1)\n",
    "\n",
    "for movie in movies:\n",
    "    pprint(movie)"
   ]
  },
  {
   "cell_type": "code",
   "execution_count": 188,
   "metadata": {},
   "outputs": [
    {
     "output_type": "stream",
     "name": "stdout",
     "text": [
      "{'_id': 'movie:4', 'actors': [], 'title': 'Sacrifice'}\n{'_id': 'movie:25', 'actors': [], 'title': 'Kagemusha'}\n{'_id': 'movie:40', 'actors': [], 'title': 'FenÃªtre sur cour'}\n{'_id': 'movie:64', 'actors': [], 'title': 'Pour quelques dollars de plus'}\n{'_id': 'movie:79', 'actors': [], 'title': 'Inglourious Basterds'}\n{'_id': 'movie:92', 'actors': [], 'title': 'Nous trois ou rien'}\n{'_id': 'movie:37',\n 'actors': [{'_id': 'artist:65', 'role': 'Docteur William \"Bill\" Harford'},\n            {'_id': 'artist:102', 'role': 'Alice Harford'}],\n 'title': 'Eyes Wide Shut'}\n{'_id': 'movie:38',\n 'actors': [{'_id': 'artist:103', 'role': 'Jack Torrance'}],\n 'title': 'Shining'}\n{'_id': 'movie:41',\n 'actors': [{'_id': 'artist:105', 'role': 'Roger O. Thornhill'},\n            {'_id': 'artist:106', 'role': 'Eve Kendall'},\n            {'_id': 'artist:107', 'role': 'Philipp Vandamm'}],\n 'title': 'La mort aux trousses'}\n{'_id': 'movie:3',\n 'actors': [{'_id': 'artist:109', 'role': 'Rose DeWitt Bukater'},\n            {'_id': 'artist:110', 'role': 'Jack Dawson'}],\n 'title': 'Titanic'}\n{'_id': 'movie:5',\n 'actors': [{'_id': 'artist:11', 'role': 'Sean Archer/Castor Troy'},\n            {'_id': 'artist:12', 'role': 'Castor Troy/Sean Archer'}],\n 'title': 'Volte/Face'}\n{'_id': 'movie:78',\n 'actors': [{'_id': 'artist:110', 'role': 'Calvin Candie'},\n            {'_id': 'artist:212', 'role': 'Stephen'},\n            {'_id': 'artist:255', 'role': 'Django'},\n            {'_id': 'artist:256', 'role': 'Dr. King Schultz'}],\n 'title': 'Django unchained'}\n{'_id': 'movie:86',\n 'actors': [{'_id': 'artist:110', 'role': 'Cobb'},\n            {'_id': 'artist:269', 'role': 'Miles'},\n            {'_id': 'artist:270', 'role': 'Ariadne'},\n            {'_id': 'artist:271', 'role': 'Mal'}],\n 'title': 'Inception'}\n{'_id': 'movie:42',\n 'actors': [{'_id': 'artist:80', 'role': None},\n            {'_id': 'artist:112', 'role': \"Jeanne d'Arc\"},\n            {'_id': 'artist:113', 'role': \"Yolande d'Aragon\"},\n            {'_id': 'artist:114', 'role': 'Charles VII'},\n            {'_id': 'artist:115', 'role': 'Dunois'}],\n 'title': \"Jeanne d'Arc\"}\n{'_id': 'movie:43',\n 'actors': [{'_id': 'artist:27', 'role': 'Major Korben Dalla'},\n            {'_id': 'artist:112', 'role': 'Leeloo'},\n            {'_id': 'artist:116', 'role': 'Jean-Baptiste Emmanuel Zorg'},\n            {'_id': 'artist:117', 'role': 'Vito Cornelius'}],\n 'title': 'Le cinquiÃ¨me Ã©lÃ©ment'}\n{'_id': 'movie:45',\n 'actors': [{'_id': 'artist:115', 'role': 'Bob'},\n            {'_id': 'artist:119', 'role': 'Nikita'},\n            {'_id': 'artist:120', 'role': 'Marco'}],\n 'title': 'Nikita'}\n{'_id': 'movie:88',\n 'actors': [{'_id': 'artist:22', 'role': 'Lucius Fox '},\n            {'_id': 'artist:116', 'role': ' Jim Gordon '},\n            {'_id': 'artist:269', 'role': 'Alfred'},\n            {'_id': 'artist:274', 'role': ' Bruce Wayne / Batman '},\n            {'_id': 'artist:275', 'role': 'Ducard'}],\n 'title': 'Batman begins'}\n{'_id': 'movie:90',\n 'actors': [{'_id': 'artist:22', 'role': 'Lucius Fox'},\n            {'_id': 'artist:116', 'role': 'Commissioner Gordon'},\n            {'_id': 'artist:268', 'role': 'Selina'},\n            {'_id': 'artist:269', 'role': 'Alfred'},\n            {'_id': 'artist:271', 'role': 'Miranda'},\n            {'_id': 'artist:274', 'role': 'Bruce Wayne / Batman'}],\n 'title': 'The Dark Knight Rises'}\n{'_id': 'movie:89',\n 'actors': [{'_id': 'artist:22', 'role': 'Lucius Fox'},\n            {'_id': 'artist:116', 'role': 'Gordon'},\n            {'_id': 'artist:269', 'role': 'Alfred'},\n            {'_id': 'artist:274', 'role': 'Bruce Wayne / Batman'},\n            {'_id': 'artist:276', 'role': 'Joker'},\n            {'_id': 'artist:277', 'role': 'Rachel'}],\n 'title': 'The Dark Knight'}\n{'_id': 'movie:44',\n 'actors': [{'_id': 'artist:60', 'role': 'LÃ©on'},\n            {'_id': 'artist:116', 'role': 'Norman Stansfield'},\n            {'_id': 'artist:118', 'role': 'Mathilda'}],\n 'title': 'LÃ©on'}\n{'_id': 'movie:46',\n 'actors': [{'_id': 'artist:39', 'role': 'Johanna'},\n            {'_id': 'artist:60', 'role': 'Enzo Molinari'},\n            {'_id': 'artist:121', 'role': 'Jacques Mayol'}],\n 'title': 'Le grand bleu'}\n{'_id': 'movie:47',\n 'actors': [{'_id': 'artist:124', 'role': 'Spider-Man'},\n            {'_id': 'artist:125', 'role': 'Norman Osborn'},\n            {'_id': 'artist:126', 'role': 'Mary Jane Watson'},\n            {'_id': 'artist:127', 'role': 'Oncle Ben'},\n            {'_id': 'artist:128', 'role': 'Tante May'}],\n 'title': 'Spider-Man'}\n{'_id': 'movie:48',\n 'actors': [{'_id': 'artist:63', 'role': 'Jimmy Jump'},\n            {'_id': 'artist:97', 'role': 'Frank White'},\n            {'_id': 'artist:124', 'role': 'Thomas Flanigan'},\n            {'_id': 'artist:131', 'role': 'Dennis Gilley'},\n            {'_id': 'artist:132', 'role': 'Thomas Flanigan'},\n            {'_id': 'artist:217', 'role': 'Test tube'}],\n 'title': 'King of New York'}\n{'_id': 'movie:82',\n 'actors': [{'_id': 'artist:130', 'role': 'Marion Steiner'},\n            {'_id': 'artist:261', 'role': 'Bernard Granger'},\n            {'_id': 'artist:262', 'role': 'Jean-Loup Cottins'}],\n 'title': 'Le dernier mÃ©tro'}\n{'_id': 'movie:50',\n 'actors': [{'_id': 'artist:62', 'role': 'Neo'},\n            {'_id': 'artist:63', 'role': 'Morpheus'},\n            {'_id': 'artist:134', 'role': 'Agent Smith'},\n            {'_id': 'artist:136', 'role': 'Trinity'},\n            {'_id': 'artist:137', 'role': \"L'Oracle\"}],\n 'title': 'The Matrix Revolutions'}\n{'_id': 'movie:54',\n 'actors': [{'_id': 'artist:137', 'role': 'Sonny Corleone'},\n            {'_id': 'artist:155', 'role': 'Capt. McCluskey'},\n            {'_id': 'artist:176', 'role': 'Michael Corleone'},\n            {'_id': 'artist:182', 'role': 'Do Vito Corleone'},\n            {'_id': 'artist:183', 'role': 'Kay Adams'},\n            {'_id': 'artist:184', 'role': 'Tom Hagen'}],\n 'title': 'Le parrain'}\n{'_id': 'movie:51',\n 'actors': [{'_id': 'artist:139', 'role': 'Marcel'},\n            {'_id': 'artist:140', 'role': 'Enseignante'},\n            {'_id': 'artist:141', 'role': 'Bruno'}],\n 'title': 'De bruit et de fureur'}\n{'_id': 'movie:6',\n 'actors': [{'_id': 'artist:14', 'role': 'Constable Ichabod Crane'},\n            {'_id': 'artist:96', 'role': 'Katrina Anne Van Tassel'},\n            {'_id': 'artist:97', 'role': 'Le cavalier'}],\n 'title': 'Sleepy Hollow'}\n{'_id': 'movie:52',\n 'actors': [{'_id': 'artist:18', 'role': 'Roger \"Verbal\" Kint'},\n            {'_id': 'artist:143', 'role': 'Micheal McManus'},\n            {'_id': 'artist:144', 'role': 'Dean Keaton'},\n            {'_id': 'artist:145', 'role': 'Fred Fenster'},\n            {'_id': 'artist:146', 'role': 'Todd Hockney'}],\n 'title': 'Usual suspects'}\n{'_id': 'movie:9',\n 'actors': [{'_id': 'artist:23', 'role': 'Maximus'},\n            {'_id': 'artist:147', 'role': 'Commode'},\n            {'_id': 'artist:148', 'role': 'Lucilla'},\n            {'_id': 'artist:149', 'role': 'Marc Aurele'}],\n 'title': 'Gladiator'}\n{'_id': 'movie:1',\n 'actors': [{'_id': 'artist:15', 'role': 'John Ferguson'},\n            {'_id': 'artist:16', 'role': 'Madeleine Elster'},\n            {'_id': 'artist:282', 'role': None}],\n 'title': 'Vertigo'}\n{'_id': 'movie:69',\n 'actors': [{'_id': 'artist:167', 'role': None}],\n 'title': 'Heat'}\n{'_id': 'movie:55',\n 'actors': [{'_id': 'artist:167', 'role': 'Don Vito Corleone'},\n            {'_id': 'artist:176', 'role': 'Michael Corleone'},\n            {'_id': 'artist:183', 'role': 'Kay Adams'},\n            {'_id': 'artist:184', 'role': 'Tom Hagen'}],\n 'title': 'Le parrain II'}\n{'_id': 'movie:71',\n 'actors': [{'_id': 'artist:167', 'role': 'James Conway'},\n            {'_id': 'artist:242', 'role': 'Henry Hill'},\n            {'_id': 'artist:243', 'role': 'Tommy DeVito'},\n            {'_id': 'artist:244', 'role': 'Karen Hill'}],\n 'title': 'Les affranchis'}\n{'_id': 'movie:57',\n 'actors': [{'_id': 'artist:167', 'role': 'Luis Gara'},\n            {'_id': 'artist:168', 'role': 'Jackie Brown'},\n            {'_id': 'artist:169', 'role': 'Melanie'},\n            {'_id': 'artist:170', 'role': 'Ray Nicolette'},\n            {'_id': 'artist:212', 'role': 'Ordell Robbie'}],\n 'title': 'Jackie Brown'}\n{'_id': 'movie:72',\n 'actors': [{'_id': 'artist:167', 'role': \"Sam 'Ace' Rothstein\"},\n            {'_id': 'artist:243', 'role': '  Nicky Santoro '},\n            {'_id': 'artist:245', 'role': 'Ginger McKenna'}],\n 'title': 'Casino'}\n{'_id': 'movie:70',\n 'actors': [{'_id': 'artist:51', 'role': '1962'},\n            {'_id': 'artist:167', 'role': 'Travis Bickle '}],\n 'title': 'Taxi driver'}\n{'_id': 'movie:58',\n 'actors': [{'_id': 'artist:27', 'role': 'McClane'},\n            {'_id': 'artist:38', 'role': 'Zeus Carver'},\n            {'_id': 'artist:169', 'role': 'Simon Gruber'}],\n 'title': 'Une journÃ©e en enfer'}\n{'_id': 'movie:59',\n 'actors': [{'_id': 'artist:27', 'role': 'Malcom Crowe'},\n            {'_id': 'artist:171', 'role': 'Cole Sear'}],\n 'title': 'SixiÃ¨me sens'}\n{'_id': 'movie:60',\n 'actors': [{'_id': 'artist:173', 'role': 'Bob Harris'},\n            {'_id': 'artist:174', 'role': 'Charlotte'},\n            {'_id': 'artist:175', 'role': 'John'},\n            {'_id': 'artist:176', 'role': 'Kelly'},\n            {'_id': 'artist:177', 'role': 'Patron Nightclub'}],\n 'title': 'Lost in Translation'}\n{'_id': 'movie:14',\n 'actors': [{'_id': 'artist:18', 'role': 'Doe'},\n            {'_id': 'artist:22', 'role': 'Somerset'},\n            {'_id': 'artist:32', 'role': 'Mills'}],\n 'title': 'Seven'}\n{'_id': 'movie:7',\n 'actors': [{'_id': 'artist:18', 'role': 'Lester Burnham'},\n            {'_id': 'artist:19', 'role': 'Carolyn Burnham'}],\n 'title': 'American Beauty'}\n{'_id': 'movie:62',\n 'actors': [{'_id': 'artist:182', 'role': 'Vassili ZaÃ¯tzev'},\n            {'_id': 'artist:183', 'role': 'major KÃ¶nig'}],\n 'title': 'Stalingrad'}\n{'_id': 'movie:67',\n 'actors': [{'_id': 'artist:2', 'role': 'Marie Antoinette'}],\n 'title': 'Marie Antoinette'}\n{'_id': 'movie:32',\n 'actors': [{'_id': 'artist:20', 'role': None}],\n 'title': 'Le bon, la brute et le truand'}\n{'_id': 'movie:63',\n 'actors': [{'_id': 'artist:20', 'role': 'Frankie Dunn'},\n            {'_id': 'artist:22', 'role': 'Eddie Scrap-Iron Dupris'},\n            {'_id': 'artist:224', 'role': 'Maggie Fitzerald'}],\n 'title': 'Million Dollar Baby'}\n{'_id': 'movie:26',\n 'actors': [{'_id': 'artist:20', 'role': 'Luther Whitney'},\n            {'_id': 'artist:21', 'role': 'Le prÃ©sident Richmond'},\n            {'_id': 'artist:69', 'role': 'Seth Frank'}],\n 'title': 'Les pleins pouvoirs'}\n{'_id': 'movie:8',\n 'actors': [{'_id': 'artist:20', 'role': 'William Munny'},\n            {'_id': 'artist:21', 'role': 'Little Bill Dagget'},\n            {'_id': 'artist:22', 'role': 'Ned Logan'}],\n 'title': 'Impitoyable'}\n{'_id': 'movie:49',\n 'actors': [{'_id': 'artist:62', 'role': 'Neo'},\n            {'_id': 'artist:63', 'role': 'Morpheus'},\n            {'_id': 'artist:210', 'role': 'Trinity'},\n            {'_id': 'artist:211', 'role': 'Agent Smith'}],\n 'title': 'The Matrix reloaded'}\n{'_id': 'movie:61',\n 'actors': [{'_id': 'artist:40', 'role': 'La mariÃ©e, alias \"Black Mamba\"'},\n            {'_id': 'artist:213', 'role': 'O-Ren Ishii'},\n            {'_id': 'artist:214', 'role': 'Bill'},\n            {'_id': 'artist:215', 'role': 'Budd / Sidewinder'},\n            {'_id': 'artist:216', 'role': 'Elle Driver'}],\n 'title': 'Kill Bill'}\n{'_id': 'movie:77',\n 'actors': [{'_id': 'artist:217', 'role': 'Carl Showalter'},\n            {'_id': 'artist:254', 'role': ' Jerry Lundegaard '}],\n 'title': 'Fargo'}\n{'_id': 'movie:10',\n 'actors': [{'_id': 'artist:24', 'role': 'Deckard'},\n            {'_id': 'artist:25', 'role': 'Batty'}],\n 'title': 'Blade Runner'}\n{'_id': 'movie:34',\n 'actors': [{'_id': 'artist:24', 'role': 'Han Solo'},\n            {'_id': 'artist:92', 'role': 'Luke Skywalker'},\n            {'_id': 'artist:93', 'role': 'Princesse Leia'}],\n 'title': 'Le retour du Jedi'}\n{'_id': 'movie:73',\n 'actors': [{'_id': 'artist:247', 'role': 'James Bond'},\n            {'_id': 'artist:248', 'role': 'Vesper Lynd'}],\n 'title': 'Casino Royale'}\n{'_id': 'movie:74',\n 'actors': [{'_id': 'artist:247', 'role': 'James Bond'},\n            {'_id': 'artist:249', 'role': 'M'},\n            {'_id': 'artist:250', 'role': 'Silva'}],\n 'title': 'Skyfall'}\n{'_id': 'movie:76',\n 'actors': [{'_id': 'artist:250', 'role': 'Anton Chigurh'},\n            {'_id': 'artist:252', 'role': 'Ed Tom Bell'},\n            {'_id': 'artist:253', 'role': 'Llewelyn Moss'}],\n 'title': 'No country for old men'}\n{'_id': 'movie:80',\n 'actors': [{'_id': 'artist:32', 'role': 'Lt. Aldo Raine'},\n            {'_id': 'artist:256', 'role': 'Col. Hans Landa'},\n            {'_id': 'artist:257', 'role': 'Shoshana'},\n            {'_id': 'artist:258', 'role': 'Lt. Archie Hicox'}],\n 'title': 'Inglourious Basterds'}\n{'_id': 'movie:81',\n 'actors': [{'_id': 'artist:260', 'role': 'Antoine Doinel'}],\n 'title': 'Les quatre cents coups'}\n{'_id': 'movie:84',\n 'actors': [{'_id': 'artist:264', 'role': 'Lt. Col. Kirby Yorke'},\n            {'_id': 'artist:265', 'role': 'Mrs. Kathleen Yorke'}],\n 'title': 'Rio Grande'}\n{'_id': 'movie:85',\n 'actors': [{'_id': 'artist:267', 'role': 'Cooper'},\n            {'_id': 'artist:268', 'role': '   Brand '},\n            {'_id': 'artist:269', 'role': 'Professor Brand'}],\n 'title': 'Interstellar'}\n{'_id': 'movie:15',\n 'actors': [{'_id': 'artist:27', 'role': 'Cole'}],\n 'title': 'Twelve Monkeys'}\n{'_id': 'movie:11',\n 'actors': [{'_id': 'artist:27', 'role': 'McClane'}],\n 'title': 'PiÃ¨ge de cristal'}\n{'_id': 'movie:12',\n 'actors': [{'_id': 'artist:27', 'role': 'McClane'}],\n 'title': '58 minutes pour vivre'}\n{'_id': 'movie:87',\n 'actors': [{'_id': 'artist:272', 'role': 'Leonard'},\n            {'_id': 'artist:273', 'role': 'Natalie'}],\n 'title': 'Memento'}\n{'_id': 'movie:91',\n 'actors': [{'_id': 'artist:279', 'role': 'Malik El Djebena '},\n            {'_id': 'artist:280', 'role': 'CÃ©sar Luciani'}],\n 'title': 'Un prophÃ¨te'}\n{'_id': 'movie:13',\n 'actors': [{'_id': 'artist:30', 'role': 'Van Gogh'}],\n 'title': 'Van Gogh'}\n{'_id': 'movie:39',\n 'actors': [{'_id': 'artist:35', 'role': '\\n                       Mark R'},\n            {'_id': 'artist:95', 'role': 'Marnie Edgar'}],\n 'title': 'Pas de printemps pour Marnie'}\n{'_id': 'movie:16',\n 'actors': [{'_id': 'artist:35', 'role': 'Baskerville'},\n            {'_id': 'artist:36', 'role': 'de Melk'}],\n 'title': 'Le last_name de la rose'}\n{'_id': 'movie:18',\n 'actors': [{'_id': 'artist:42', 'role': 'Mary Jensen Matthews'},\n            {'_id': 'artist:43', 'role': 'Pat Healy'}],\n 'title': 'Mary Ã\\xa0 tout prix'}\n{'_id': 'movie:19',\n 'actors': [{'_id': 'artist:44', 'role': 'Terminator'}],\n 'title': 'Terminator'}\n{'_id': 'movie:20',\n 'actors': [{'_id': 'artist:46', 'role': 'Martin Brody'},\n            {'_id': 'artist:47', 'role': 'Quint'},\n            {'_id': 'artist:48', 'role': 'Matt Hooper'}],\n 'title': 'Les dents de la mer'}\n{'_id': 'movie:2',\n 'actors': [{'_id': 'artist:5', 'role': 'Ripley'}],\n 'title': 'Alien'}\n{'_id': 'movie:21',\n 'actors': [{'_id': 'artist:50', 'role': 'Dr. Hannibal Lecter'},\n            {'_id': 'artist:51', 'role': 'Clarice Starling'}],\n 'title': 'Le silence des agneaux'}\n{'_id': 'movie:30',\n 'actors': [{'_id': 'artist:53', 'role': 'Iceman'},\n            {'_id': 'artist:65', 'role': 'Lt. Pete Maverick Mitchell'},\n            {'_id': 'artist:82', 'role': 'Charlotte Blackwood'}],\n 'title': 'Top Gun'}\n{'_id': 'movie:28',\n 'actors': [{'_id': 'artist:57', 'role': 'Dr. Ian Malcolm'}],\n 'title': 'Le monde perdu'}\n{'_id': 'movie:22',\n 'actors': [{'_id': 'artist:59', 'role': 'Dr. Nikos Tatopoulos'},\n            {'_id': 'artist:60', 'role': 'Philippe RoachÃ©'}],\n 'title': 'Godzilla'}\n{'_id': 'movie:24',\n 'actors': [{'_id': 'artist:60', 'role': 'Franz Krieger'},\n            {'_id': 'artist:65', 'role': 'Ethan Hunt'},\n            {'_id': 'artist:66', 'role': 'Jim Phelps'},\n            {'_id': 'artist:67', 'role': 'Claire Phelps'}],\n 'title': 'Mission: Impossible'}\n{'_id': 'movie:23',\n 'actors': [{'_id': 'artist:62', 'role': 'Neo'},\n            {'_id': 'artist:63', 'role': 'Morpheus'}],\n 'title': 'Matrix'}\n{'_id': 'movie:29',\n 'actors': [{'_id': 'artist:65', 'role': 'Charlie Babbitt'},\n            {'_id': 'artist:80', 'role': 'Raymond Babbitt'}],\n 'title': 'Rain Man'}\n{'_id': 'movie:27',\n 'actors': [{'_id': 'artist:72', 'role': 'Inspecteur Cruchot'},\n            {'_id': 'artist:73', 'role': 'Adjudant Gerber'}],\n 'title': 'Le gendarme et les extra-terrestres'}\n{'_id': 'movie:31',\n 'actors': [{'_id': 'artist:75', 'role': 'Nathalie Morin'},\n            {'_id': 'artist:76', 'role': 'Christiane'},\n            {'_id': 'artist:84', 'role': 'Jean-Claude Dus'},\n            {'_id': 'artist:85', 'role': 'JÃ©rÃ´me'},\n            {'_id': 'artist:86', 'role': 'Popeye'}],\n 'title': 'Les bronzÃ©s font du ski'}\n{'_id': 'movie:68',\n 'actors': [{'_id': 'artist:8', 'role': 'sol'}],\n 'title': 'Soleil vert'}\n{'_id': 'movie:33',\n 'actors': [{'_id': 'artist:88', 'role': 'Bates'},\n            {'_id': 'artist:89', 'role': 'Lila Crane'},\n            {'_id': 'artist:90', 'role': 'Marion Crane'}],\n 'title': 'Psychose'}\n{'_id': 'movie:35',\n 'actors': [{'_id': 'artist:94', 'role': 'Mitch Brenner'},\n            {'_id': 'artist:95', 'role': 'Melanie Daniels'}],\n 'title': 'Les oiseaux'}\nNombre de films : 84\n"
     ]
    }
   ],
   "source": [
    "# Q : Combien de films dans lesquels ont joué ni l'acteur 34, ni 98, ni 1 et afficher leur titre et la liste des actors ; sens du tri : chronologique décroissant et alphabétique croissant sur les titres des films ?\n",
    "# // Indice : 84 films ; Utiliser $in\n",
    "\n",
    "movies = db.movies.find({\"actors._id\":{\"$nin\":[\"artist:34\",\"artist:98\",\"artist:1\"]}},{\"title\" : 1, \"actors\": 1}).sort(\"year\", 1)\n",
    "\n",
    "count = 0 \n",
    "\n",
    "for movie in movies:\n",
    "    count+=1;\n",
    "    pprint(movie)\n",
    "print(\"Nombre de films : \" + str(count))"
   ]
  },
  {
   "cell_type": "code",
   "execution_count": 190,
   "metadata": {},
   "outputs": [
    {
     "output_type": "stream",
     "name": "stdout",
     "text": [
      "Nombre de films : 0\n{'_id': 'movie:4', 'actors': [], 'title': 'Sacrifice'}\n{'_id': 'movie:25', 'actors': [], 'title': 'Kagemusha'}\n{'_id': 'movie:40', 'actors': [], 'title': 'FenÃªtre sur cour'}\n{'_id': 'movie:64', 'actors': [], 'title': 'Pour quelques dollars de plus'}\n{'_id': 'movie:79', 'actors': [], 'title': 'Inglourious Basterds'}\n{'_id': 'movie:92', 'actors': [], 'title': 'Nous trois ou rien'}\nNombre de films : 6\n"
     ]
    }
   ],
   "source": [
    "# Q : Combien de films qui n’ont pas d’attribut actors ? Combien de films dont l'attribut actors n'est pas renseigné et les afficher ?\n",
    "# Indice : 0 films ; 6 films\n",
    "\n",
    "movies =  db.movies.find({\"actors\" : { \"$exists\": False}}).count()\n",
    "print(\"Nombre de films : \" + str(movies))\n",
    "\n",
    "movies =  db.movies.find({\"actors\" :{\"$exists\":True,\"$lte\":[]}},{\"title\" : 1, \"actors\": 1})\n",
    "count = 0\n",
    "\n",
    "for movie in movies:\n",
    "    count+=1;\n",
    "    pprint(movie)\n",
    "print(\"Nombre de films : \" + str(count))"
   ]
  },
  {
   "cell_type": "code",
   "execution_count": 193,
   "metadata": {},
   "outputs": [
    {
     "output_type": "stream",
     "name": "stdout",
     "text": [
      "{'_id': 'movie:8', 'director': {'_id': 'artist:20'}, 'title': 'Impitoyable'}\n{'_id': 'movie:26',\n 'director': {'_id': 'artist:20'},\n 'title': 'Les pleins pouvoirs'}\n{'_id': 'movie:63',\n 'director': {'_id': 'artist:20'},\n 'title': 'Million Dollar Baby'}\n"
     ]
    }
   ],
   "source": [
    "# // Jointure\n",
    "\n",
    "# Q : Donnez tous les films dont le directeur est Clint Eastwood ?\n",
    "# // R :\n",
    "\n",
    "# eastwood = db.artists.findOne({\"first_name\": \"Clint\", \"last_name\": \"Eastwood\"})\n",
    "# // Rq : On dispose maintenant d’un objet eastwood. Une seconde requête sur les movies va récupérer les films dirigés par cet artiste !\n",
    "# db.movies.find({\"director._id\": eastwood['_id']}, {\"title\": 1, \"director._id\" : 1})\n",
    "# // Rq : L'info est reconstituée en 2 étapes !\n",
    "\n",
    "eastwood = db.artists.find_one({\"first_name\": \"Clint\", \"last_name\": \"Eastwood\"}) \n",
    "movies = db.movies.find({\"director._id\": eastwood['_id']}, {\"title\": 1, \"director._id\" : 1})\n",
    "\n",
    "for movie in movies:\n",
    "    pprint(movie)"
   ]
  },
  {
   "cell_type": "code",
   "execution_count": 194,
   "metadata": {},
   "outputs": [
    {
     "output_type": "stream",
     "name": "stdout",
     "text": [
      "{'_id': 'movie:36',\n 'country': 'USA',\n 'director': {'_id': 'artist:37'},\n 'genre': 'crime',\n 'title': 'Reservoir dogs',\n 'year': 1992}\n"
     ]
    }
   ],
   "source": [
    "#########################################################################\n",
    "#####                  Expressions régulières ?                     #####\n",
    "\n",
    "# Q : Tous les films dont le titre commence par 'Re' ?\n",
    "# // R :\n",
    "# db.movies.find ({\"title\": /^Re/}, {\"actors\": null, \"summary\": 0}).pretty()\n",
    "# // Rq : Pas d’apostrophes autour de l’expression régulière !\n",
    "\n",
    "movies = db.movies.find({\"title\": {\"$regex\" :'^Re'}}, {\"actors\": 0, \"summary\": 0})\n",
    "\n",
    "for movie in movies: \n",
    "    pprint(movie)"
   ]
  },
  {
   "cell_type": "code",
   "execution_count": 195,
   "metadata": {},
   "outputs": [
    {
     "output_type": "stream",
     "name": "stdout",
     "text": [
      "{'_id': 'movie:22',\n 'country': 'USA',\n 'director': {'_id': 'artist:58'},\n 'genre': 'Action',\n 'title': 'Godzilla',\n 'year': 1998}\n"
     ]
    }
   ],
   "source": [
    "# Q : Tous les films dont le titre finit par 'la' ?\n",
    "# db.movies.find ({\"title\": /la$/}, {\"actors\": null, \"summary\": 0}).pretty()\n",
    "\n",
    "movies = db.movies.find({\"title\": {\"$regex\" :'la$'}}, {\"actors\": 0, \"summary\": 0})\n",
    "\n",
    "for movie in movies: \n",
    "    pprint(movie)"
   ]
  },
  {
   "cell_type": "code",
   "execution_count": 196,
   "metadata": {},
   "outputs": [
    {
     "output_type": "stream",
     "name": "stdout",
     "text": [
      "{'_id': 'movie:9',\n 'actors': [{'_id': 'artist:23', 'role': 'Maximus'},\n            {'_id': 'artist:147', 'role': 'Commode'},\n            {'_id': 'artist:148', 'role': 'Lucilla'},\n            {'_id': 'artist:149', 'role': 'Marc Aurele'}],\n 'title': 'Gladiator'}\n"
     ]
    }
   ],
   "source": [
    "# Q : Combien de films ont été joués par l'acteur dont l'id est 147 et les afficher en se limitant au titre du film et la liste des acteurs ?\n",
    "\n",
    "movies = db.movies.find({\"actors._id\":{\"$all\":[\"artist:147\"]}},{\"title\" : 1, \"actors\": 1}).sort(\"title\",1)\n",
    "\n",
    "for movie in movies: \n",
    "    pprint(movie)"
   ]
  },
  {
   "cell_type": "code",
   "execution_count": 197,
   "metadata": {},
   "outputs": [
    {
     "output_type": "stream",
     "name": "stdout",
     "text": [
      "{'_id': 'movie:9',\n 'country': 'USA',\n 'director': {'_id': 'artist:4'},\n 'genre': 'drama',\n 'title': 'Gladiator',\n 'year': 2000}\n"
     ]
    }
   ],
   "source": [
    "# Q : Retourner les films joués par l'acteur 147 sans les acteurs et sans le résumé ?\n",
    "\n",
    "movies = db.movies.find({\"actors._id\":{\"$all\":[\"artist:147\"]}},{\"summary\" : 0, \"actors\": 0}).sort(\"title\",1)\n",
    "\n",
    "for movie in movies : \n",
    "    pprint(movie)"
   ]
  },
  {
   "cell_type": "code",
   "execution_count": null,
   "metadata": {},
   "outputs": [],
   "source": []
  }
 ]
}